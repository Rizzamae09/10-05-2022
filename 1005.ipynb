{
  "nbformat": 4,
  "nbformat_minor": 0,
  "metadata": {
    "colab": {
      "provenance": [],
      "collapsed_sections": [],
      "authorship_tag": "ABX9TyPogl/aTwmp23BGE85Nrwpu",
      "include_colab_link": true
    },
    "kernelspec": {
      "name": "python3",
      "display_name": "Python 3"
    },
    "language_info": {
      "name": "python"
    }
  },
  "cells": [
    {
      "cell_type": "markdown",
      "metadata": {
        "id": "view-in-github",
        "colab_type": "text"
      },
      "source": [
        "<a href=\"https://colab.research.google.com/github/Rizzamae09/10-05-2022/blob/main/1005.ipynb\" target=\"_parent\"><img src=\"https://colab.research.google.com/assets/colab-badge.svg\" alt=\"Open In Colab\"/></a>"
      ]
    },
    {
      "cell_type": "code",
      "execution_count": 1,
      "metadata": {
        "colab": {
          "base_uri": "https://localhost:8080/"
        },
        "id": "6AzSs-n0oApx",
        "outputId": "7aa987ee-464f-44ef-ae4d-589d89d14e5e"
      },
      "outputs": [
        {
          "output_type": "stream",
          "name": "stdout",
          "text": [
            "麗\n"
          ]
        }
      ],
      "source": [
        "\n",
        "a = \"Hello,艾麗藻\"\n",
        "print(a[7])\n",
        "\n",
        "# strings == > array\n",
        "# index begins with 0"
      ]
    },
    {
      "cell_type": "code",
      "source": [
        "\n",
        "a = \"Hello,艾麗藻!\"\n",
        "print(a[8])\n",
        "\n",
        "# strings == > array\n",
        "# index begins with 0"
      ],
      "metadata": {
        "colab": {
          "base_uri": "https://localhost:8080/"
        },
        "id": "V3dsjdkUp0SK",
        "outputId": "faf34f59-084f-4c3f-f1ad-192c9c6ceb1c"
      },
      "execution_count": 3,
      "outputs": [
        {
          "output_type": "stream",
          "name": "stdout",
          "text": [
            "藻\n"
          ]
        }
      ]
    },
    {
      "cell_type": "code",
      "source": [
        "\n",
        "a = \"sothisismeswallowingmypridestandinginfrontofyousayingimsorryforthatnight\"\n",
        "print(len(a))\n",
        "# wrong: print(length(a))\n",
        "# 33 = 31 letter 2 space"
      ],
      "metadata": {
        "colab": {
          "base_uri": "https://localhost:8080/"
        },
        "id": "kPdXVC5TqKaH",
        "outputId": "38737146-7b31-409d-fc42-819f418bb161"
      },
      "execution_count": 4,
      "outputs": [
        {
          "output_type": "stream",
          "name": "stdout",
          "text": [
            "72\n"
          ]
        }
      ]
    },
    {
      "cell_type": "code",
      "source": [
        "\n",
        "txt = \"Id go back to december all the time, Taylor\"\n",
        "if \"Taylor\" in txt:\n",
        "  print(\"Yes, 'Taylor' is present.\")"
      ],
      "metadata": {
        "colab": {
          "base_uri": "https://localhost:8080/"
        },
        "id": "MmXPwwS0sGqv",
        "outputId": "b1459187-1050-4681-82fc-f1a038f3073c"
      },
      "execution_count": 9,
      "outputs": [
        {
          "output_type": "stream",
          "name": "stdout",
          "text": [
            "Yes, 'Taylor' is present.\n"
          ]
        }
      ]
    }
  ]
}